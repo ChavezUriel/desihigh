{
 "cells": [
  {
   "cell_type": "markdown",
   "metadata": {},
   "source": [
    "Aunque se pueden hacer muchas cosas con Python puro, podemos ampliar nuestras opciones aún más utilizando lo que se llama \"bibliotecas\". Piensa en ello como una subida de nivel en la que adquieres un montón de poderes nuevos. Una biblioteca que es particularmente útil se llama \"NumPy\". Una vez instalada en tu computadora, puedes importar una biblioteca usando `import libraryName` así:"
   ]
  },
  {
   "cell_type": "code",
   "execution_count": 4,
   "metadata": {},
   "outputs": [],
   "source": [
    "import numpy\n",
    "# ¡Así de fácil!1"
   ]
  },
  {
   "cell_type": "markdown",
   "metadata": {},
   "source": [
    "¿Recuerdas los arreglos? NumPy fue construido específicamente para que podamos hacer muchas más cosas con ellos. Sin embargo, la forma de crear arreglos en los que se quieren usar las funciones de NumPy es un poco diferente. En lugar de encerrar nuestro arreglo sólo entre corchetes [ *lista de elementos* ], agregamos numpy.array() alrededor de ellos también:"
   ]
  },
  {
   "cell_type": "code",
   "execution_count": 5,
   "metadata": {},
   "outputs": [
    {
     "name": "stdout",
     "output_type": "stream",
     "text": [
      "['mango' 'lychee' 'toronja' 'papaya' 'mangostán' 'guayaba']\n"
     ]
    }
   ],
   "source": [
    "favoriteFruits = numpy.array([\"mango\", \"lychee\", \"toronja\", \"papaya\", \"mangostán\", \"guayaba\"])\n",
    "print(favoriteFruits)"
   ]
  },
  {
   "cell_type": "markdown",
   "metadata": {},
   "source": [
    "¡Inténtalo! En la celda de abajo, crea tu propio arreglo NumPy de frutas favoritas llamado `miFavFruits`, y luego imprímelo como output. El output debe ser similar al ejemplo anterior."
   ]
  },
  {
   "cell_type": "code",
   "execution_count": 6,
   "metadata": {},
   "outputs": [],
   "source": [
    "# intenta crear tu propio np.array aquí"
   ]
  },
  {
   "cell_type": "markdown",
   "metadata": {},
   "source": [
    "Al principio no parece gran cosa, ¡pero aquí es donde podemos usar nuestros nuevos poderes! NumPy también tiene una característica que le permite ir a través de una arreglo saltando ciertos elementos. ¡Por ejemplo, si quiero volver a mi lista de frutas favoritas y sólo imprimir una de cada dos frutas, (el output debería ser [\"mango\", \"toronja\", \"mangostán\"]), podría hacerlo fácilmente usando el poder de `numpy.arange`! (Y sí, \"arange\" se escribe efectivamente con una sola \"r\")."
   ]
  },
  {
   "cell_type": "code",
   "execution_count": 7,
   "metadata": {},
   "outputs": [
    {
     "name": "stdout",
     "output_type": "stream",
     "text": [
      "mango\n",
      "toronja\n",
      "mangostán\n"
     ]
    }
   ],
   "source": [
    "# favoriteFruits = numpy.array([\"mango\", \"lychee\", \"toronja\", \"papaya\", \"mangostán\", \"guayaba\"])\n",
    "\n",
    "# ¡En breve veremos cómo funciona todo esto!\n",
    "for i in numpy.arange(0, 5, 2):\n",
    "    print(favoriteFruits[i])"
   ]
  },
  {
   "cell_type": "markdown",
   "metadata": {},
   "source": [
    "\"numpy.arange\" crea un arreglo de números tomando 3 valores: el valor inicial, el valor final y el \"step\" o cantidad a incrementar cada vez. Escrito, se vería algo así: `numpy.arange(inicio, final, step)`. En la celda de abajo, podemos ver exactamente lo que numpy.arange hace en acción. Intenta jugar un poco con los 3 números. *¿Puedes conseguir que imprima [2, 5, 8, 11]?* (Nota: el número \"inicio\" se incluye en el arreglo, pero se detendrá justo antes del número \"final\", por lo que el 7 no se imprime)."
   ]
  },
  {
   "cell_type": "code",
   "execution_count": null,
   "metadata": {},
   "outputs": [],
   "source": [
    "print(numpy.arange(1, 7, 2))\n",
    "# ¿Cómo puedes cambiar los números 1, 7, 2 para que imprima [2, 5, 8, 11] en su lugar?"
   ]
  },
  {
   "cell_type": "markdown",
   "metadata": {},
   "source": [
    "¡Ahora es el momento de aplicar esto a otros arreglos! Podemos utilizar un ciclo \"for\" para acceder a los elementos de un arreglo utilizando sus índices, que vendrán de la secuencia de números generada por numpy.arange. En el ejemplo anterior, `numpy.arrange(0, len(favoriteFruits), 2)` dio como resultado el array [0, 2, 4], que son los índices de \"mango\", \" toronja\" y \"mangostán\" respectivamente, por lo que son los que se imprimieron. \n",
    "\n",
    "*¿Qué dijo el fotón cuando el empleado le preguntó si necesitaba ayuda con su equipaje?* En la celda de abajo, la respuesta (en inglés) a esta pregunta está codificada en el arreglo `secretMessage`. ¿Puedes averiguar cómo imprimirla utilizando un ciclo \"for\" y `numpy.arange`?"
   ]
  },
  {
   "cell_type": "code",
   "execution_count": 8,
   "metadata": {},
   "outputs": [],
   "source": [
    "secretMessage = [\"blah\", \"blah\", \"No thanks,\", \"blah\", \"blah\", \"I'm\", \"blah\", \"blah\", \"traveling\", \"blah\", \"blah\", \"light!\"]\n",
    "\n",
    "# ¡Escribe tu ciclo for debajo de esta línea!"
   ]
  }
 ],
 "metadata": {
  "interpreter": {
   "hash": "05744e531a6b5accf174ab064947cca0fa700a25ff2828a9ac0fc01bbcf870af"
  },
  "kernelspec": {
   "display_name": "Python 3.9.6 64-bit ('base': conda)",
   "language": "python",
   "name": "python3"
  },
  "language_info": {
   "codemirror_mode": {
    "name": "ipython",
    "version": 3
   },
   "file_extension": ".py",
   "mimetype": "text/x-python",
   "name": "python",
   "nbconvert_exporter": "python",
   "pygments_lexer": "ipython3",
   "version": "3.9.6"
  },
  "orig_nbformat": 4
 },
 "nbformat": 4,
 "nbformat_minor": 2
}
